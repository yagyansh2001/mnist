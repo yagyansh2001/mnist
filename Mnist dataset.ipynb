{
 "cells": [
  {
   "cell_type": "code",
   "execution_count": 59,
   "id": "935b1750",
   "metadata": {},
   "outputs": [],
   "source": [
    "import pandas as pd\n",
    "import numpy as np\n",
    "import matplotlib.pyplot as plt\n",
    "from sklearn.linear_model import LogisticRegression\n",
    "from sklearn.neighbors import KNeighborsClassifier\n",
    "from sklearn.svm import SVC\n",
    "from sklearn.tree import DecisionTreeClassifier"
   ]
  },
  {
   "cell_type": "code",
   "execution_count": 14,
   "id": "a5b04524",
   "metadata": {},
   "outputs": [],
   "source": [
    "train=pd.read_csv('mnist_train.csv')\n",
    "test=pd.read_csv('mnist_test.csv')"
   ]
  },
  {
   "cell_type": "code",
   "execution_count": 15,
   "id": "0406ffec",
   "metadata": {},
   "outputs": [],
   "source": [
    "X_train=train.iloc[:,1:]\n",
    "y_train=train.iloc[:,0]"
   ]
  },
  {
   "cell_type": "markdown",
   "id": "0a7b0b32",
   "metadata": {},
   "source": [
    "# Logistic regression"
   ]
  },
  {
   "cell_type": "code",
   "execution_count": 18,
   "id": "95f30986",
   "metadata": {},
   "outputs": [
    {
     "name": "stderr",
     "output_type": "stream",
     "text": [
      "/Users/yagyansh_2001/opt/anaconda3/lib/python3.8/site-packages/sklearn/linear_model/_logistic.py:763: ConvergenceWarning: lbfgs failed to converge (status=1):\n",
      "STOP: TOTAL NO. of ITERATIONS REACHED LIMIT.\n",
      "\n",
      "Increase the number of iterations (max_iter) or scale the data as shown in:\n",
      "    https://scikit-learn.org/stable/modules/preprocessing.html\n",
      "Please also refer to the documentation for alternative solver options:\n",
      "    https://scikit-learn.org/stable/modules/linear_model.html#logistic-regression\n",
      "  n_iter_i = _check_optimize_result(\n"
     ]
    },
    {
     "data": {
      "text/plain": [
       "LogisticRegression()"
      ]
     },
     "execution_count": 18,
     "metadata": {},
     "output_type": "execute_result"
    }
   ],
   "source": [
    "lr=LogisticRegression()\n",
    "lr.fit(X_train,y_train)"
   ]
  },
  {
   "cell_type": "code",
   "execution_count": 37,
   "id": "a9d7b4e5",
   "metadata": {},
   "outputs": [],
   "source": [
    "preds_lr=lr.predict(test)"
   ]
  },
  {
   "cell_type": "code",
   "execution_count": 39,
   "id": "74b742bb",
   "metadata": {},
   "outputs": [],
   "source": [
    "preds_lr=pd.DataFrame(preds_lr,index=np.arange(1,len(preds_lr)+1),columns=['Label'])"
   ]
  },
  {
   "cell_type": "code",
   "execution_count": 40,
   "id": "c151c870",
   "metadata": {},
   "outputs": [],
   "source": [
    "preds_lr.index.name='ImageId'"
   ]
  },
  {
   "cell_type": "code",
   "execution_count": 42,
   "id": "2eee2e53",
   "metadata": {},
   "outputs": [],
   "source": [
    "preds_lr.to_csv('preds_lr_mnist.csv')"
   ]
  },
  {
   "cell_type": "markdown",
   "id": "45d00a24",
   "metadata": {},
   "source": [
    "# KNN"
   ]
  },
  {
   "cell_type": "code",
   "execution_count": 66,
   "id": "c9cd9f5e",
   "metadata": {},
   "outputs": [
    {
     "data": {
      "text/plain": [
       "KNeighborsClassifier()"
      ]
     },
     "execution_count": 66,
     "metadata": {},
     "output_type": "execute_result"
    }
   ],
   "source": [
    "knn=KNeighborsClassifier(n_neighbors=5)\n",
    "knn.fit(X_train,y_train)"
   ]
  },
  {
   "cell_type": "code",
   "execution_count": 67,
   "id": "5f06be50",
   "metadata": {},
   "outputs": [],
   "source": [
    "preds_knn=knn.predict(test)\n",
    "preds_knn=pd.DataFrame(preds_knn,index=np.arange(1,len(preds_knn)+1),columns=['Label'])\n",
    "preds_knn.index.name='ImageId'"
   ]
  },
  {
   "cell_type": "code",
   "execution_count": 68,
   "id": "962b6a7d",
   "metadata": {},
   "outputs": [],
   "source": [
    "preds_knn.to_csv('preds_knn_5_mnist.csv')"
   ]
  },
  {
   "cell_type": "markdown",
   "id": "c4c8adcc",
   "metadata": {},
   "source": [
    "# SVM"
   ]
  },
  {
   "cell_type": "code",
   "execution_count": 56,
   "id": "4da8c095",
   "metadata": {},
   "outputs": [
    {
     "data": {
      "text/plain": [
       "SVC()"
      ]
     },
     "execution_count": 56,
     "metadata": {},
     "output_type": "execute_result"
    }
   ],
   "source": [
    "svm=SVC()\n",
    "svm.fit(X_train,y_train)\n"
   ]
  },
  {
   "cell_type": "code",
   "execution_count": 57,
   "id": "b913e34f",
   "metadata": {},
   "outputs": [],
   "source": [
    "preds_svm=svm.predict(test)\n",
    "preds_svm=pd.DataFrame(preds_svm,index=np.arange(1,len(preds_svm)+1),columns=['Label'])\n",
    "preds_svm.index.name='ImageId'"
   ]
  },
  {
   "cell_type": "code",
   "execution_count": 64,
   "id": "ed6ba825",
   "metadata": {},
   "outputs": [],
   "source": [
    "preds_svm.to_csv('preds_svm_mnist.csv')"
   ]
  },
  {
   "cell_type": "markdown",
   "id": "255db7b4",
   "metadata": {},
   "source": [
    "# Decision tree"
   ]
  },
  {
   "cell_type": "code",
   "execution_count": 60,
   "id": "8f320b06",
   "metadata": {},
   "outputs": [
    {
     "data": {
      "text/plain": [
       "DecisionTreeClassifier()"
      ]
     },
     "execution_count": 60,
     "metadata": {},
     "output_type": "execute_result"
    }
   ],
   "source": [
    "dec_tree=DecisionTreeClassifierisionTreeClassifier()\n",
    "dec_tree.fit(X_train,y_train)"
   ]
  },
  {
   "cell_type": "code",
   "execution_count": 61,
   "id": "300247d2",
   "metadata": {},
   "outputs": [],
   "source": [
    "preds_dec=dec_tree.predict(test)\n",
    "preds_dec=pd.DataFrame(preds_dec,index=np.arange(1,len(preds_dec)+1),columns=['Label'])\n",
    "preds_dec.index.name='ImageId'"
   ]
  },
  {
   "cell_type": "code",
   "execution_count": 65,
   "id": "8eb5d3ab",
   "metadata": {},
   "outputs": [],
   "source": [
    "preds_dec.to_csv('preds_dec_mnist.csv')"
   ]
  },
  {
   "cell_type": "code",
   "execution_count": null,
   "id": "c4be6d2b",
   "metadata": {},
   "outputs": [],
   "source": []
  }
 ],
 "metadata": {
  "kernelspec": {
   "display_name": "Python 3",
   "language": "python",
   "name": "python3"
  },
  "language_info": {
   "codemirror_mode": {
    "name": "ipython",
    "version": 3
   },
   "file_extension": ".py",
   "mimetype": "text/x-python",
   "name": "python",
   "nbconvert_exporter": "python",
   "pygments_lexer": "ipython3",
   "version": "3.8.8"
  }
 },
 "nbformat": 4,
 "nbformat_minor": 5
}
